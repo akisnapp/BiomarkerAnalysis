{
 "cells": [
  {
   "cell_type": "code",
   "execution_count": null,
   "metadata": {},
   "outputs": [],
   "source": [
    "import os\n",
    "import torch\n",
    "import torch.nn as nn\n",
    "from torch.utils.data import DataLoader\n",
    "from torchvision import transforms\n",
    "from sklearn.metrics import accuracy_score\n",
    "from resnet50_mlp_fusion import SupCEResNet_Fusion  \n",
    "from train import train_model\n",
    "from data_preprocessing import get_data_loaders\n",
    "import torch.nn as nn\n",
    "import torch.optim as optim\n",
    "\n",
    "# Paths\n",
    "DATA_PATH = '/storage/ice1/shared/d-pace_community/makerspace-datasets/MEDICAL/OLIVES/OLIVES/'\n",
    "LABEL_DATA_PATH = os.path.join(DATA_PATH, 'Biomarker_Clinical_Data_Images_Updated.csv')\n",
    "\n",
    "# Device configuration\n",
    "DEVICE = torch.device(\"cuda\" if torch.cuda.is_available() else \"cpu\")"
   ]
  },
  {
   "cell_type": "code",
   "execution_count": null,
   "metadata": {},
   "outputs": [],
   "source": [
    "# Define model\n",
    "model = SupCEResNet_Fusion(\n",
    "    name='resnet50',\n",
    "    num_classes=1,  # Regression or binary classification\n",
    "    num_features=14,  # Number of biomarkers\n",
    "    in_channels=3  # RGB images\n",
    ").to(DEVICE)\n",
    "\n",
    "# Define the criterion and optimizer\n",
    "criterion = nn.MSELoss()  # Use MSELoss for regression tasks\n",
    "optimizer = optim.Adam(model.parameters(), lr=1e-4)\n",
    "train_loader, val_loader = get_data_loaders()\n",
    "# Train the model\n",
    "train_model(\n",
    "    model=model,\n",
    "    train_loader=train_loader,\n",
    "    val_loader=val_loader,\n",
    "    criterion=criterion,\n",
    "    optimizer=optimizer,\n",
    "    device=DEVICE,\n",
    "    epochs=10  # Specify the number of epochs\n",
    ")"
   ]
  }
 ],
 "metadata": {
  "language_info": {
   "name": "python"
  },
  "orig_nbformat": 4
 },
 "nbformat": 4,
 "nbformat_minor": 2
}
