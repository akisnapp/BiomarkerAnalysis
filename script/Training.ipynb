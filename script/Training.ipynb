{
 "cells": [
  {
   "cell_type": "code",
   "execution_count": 1,
   "id": "f9ae9e79-98a6-4a60-9477-63894df0a0d9",
   "metadata": {
    "tags": []
   },
   "outputs": [],
   "source": [
    "import os\n",
    "import torch\n",
    "import torch.nn as nn\n",
    "from torch.utils.data import DataLoader\n",
    "from torchvision import transforms\n",
    "from sklearn.metrics import accuracy_score\n",
    "from resnet50_mlp_fusion import SupCEResNet_Fusion  \n",
    "from train import train_model\n",
    "from data_preprocessing import get_data_loaders\n",
    "import torch.nn as nn\n",
    "import torch.optim as optim\n",
    "\n",
    "# Paths\n",
    "DATA_PATH = '/storage/ice1/shared/d-pace_community/makerspace-datasets/MEDICAL/OLIVES/OLIVES/'\n",
    "LABEL_DATA_PATH = os.path.join(DATA_PATH, 'Biomarker_Clinical_Data_Images_Updated.csv')\n",
    "\n",
    "# Device configuration\n",
    "DEVICE = torch.device(\"cuda\" if torch.cuda.is_available() else \"cpu\")"
   ]
  },
  {
   "cell_type": "code",
   "execution_count": 4,
   "id": "f894a774-f094-4c19-ad80-6f61313a2224",
   "metadata": {
    "tags": []
   },
   "outputs": [
    {
     "name": "stderr",
     "output_type": "stream",
     "text": [
      "/home/hice1/cphan36/.local/lib/python3.10/site-packages/torch/optim/lr_scheduler.py:62: UserWarning: The verbose parameter is deprecated. Please use get_last_lr() to access the learning rate.\n",
      "  warnings.warn(\n"
     ]
    },
    {
     "name": "stdout",
     "output_type": "stream",
     "text": [
      "Epoch 6/10 - Train Loss: 44.6945, Val Loss: 47.2235\n",
      "Epoch 7/10 - Train Loss: 41.0312, Val Loss: 44.2377\n",
      "Epoch 8/10 - Train Loss: 36.5389, Val Loss: 37.5902\n",
      "Epoch 9/10 - Train Loss: 34.0994, Val Loss: 37.5623\n",
      "Epoch 10/10 - Train Loss: 31.5153, Val Loss: 35.2049\n"
     ]
    }
   ],
   "source": [
    "# Define model\n",
    "model = SupCEResNet_Fusion(\n",
    "    name='resnet50',\n",
    "    num_classes=1,  # Regression or binary classification\n",
    "    num_features=14,  # Number of biomarkers\n",
    "    in_channels=3  # RGB images\n",
    ").to(DEVICE)\n",
    "\n",
    "# Define the criterion and optimizer\n",
    "criterion = nn.MSELoss()  # Use MSELoss for regression tasks\n",
    "optimizer = optim.Adam(model.parameters(), lr=1e-4)\n",
    "train_loader, val_loader = get_data_loaders()\n",
    "# Train the model\n",
    "train_model(\n",
    "    model=model,\n",
    "    train_loader=train_loader,\n",
    "    val_loader=val_loader,\n",
    "    criterion=criterion,\n",
    "    optimizer=optimizer,\n",
    "    device=DEVICE,\n",
    "    epochs=10  # Specify the number of epochs\n",
    ")\n"
   ]
  },
  {
   "cell_type": "code",
   "execution_count": null,
   "id": "823c4750-1824-4f86-9f76-46ae9bced902",
   "metadata": {},
   "outputs": [],
   "source": []
  }
 ],
 "metadata": {
  "kernelspec": {
   "display_name": "Python 3 (ipykernel)",
   "language": "python",
   "name": "python3"
  },
  "language_info": {
   "codemirror_mode": {
    "name": "ipython",
    "version": 3
   },
   "file_extension": ".py",
   "mimetype": "text/x-python",
   "name": "python",
   "nbconvert_exporter": "python",
   "pygments_lexer": "ipython3",
   "version": "3.10.13"
  }
 },
 "nbformat": 4,
 "nbformat_minor": 5
}
