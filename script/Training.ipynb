{
 "cells": [
  {
   "cell_type": "code",
   "execution_count": 3,
   "id": "f9ae9e79-98a6-4a60-9477-63894df0a0d9",
   "metadata": {
    "tags": []
   },
   "outputs": [],
   "source": [
    "import os\n",
    "import torch\n",
    "import torch.nn as nn\n",
    "from torch.utils.data import DataLoader\n",
    "from torchvision import transforms\n",
    "from sklearn.metrics import accuracy_score\n",
    "from resnet50_mlp_fusion import SupCEResNet_Fusion  \n",
    "from train import train_model\n",
    "from data_preprocessing import get_data_loaders\n",
    "import torch.nn as nn\n",
    "import torch.optim as optim\n",
    "from train import train_model\n",
    "\n",
    "# Device configuration\n",
    "DEVICE = torch.device(\"cuda\" if torch.cuda.is_available() else \"cpu\")"
   ]
  },
  {
   "cell_type": "code",
   "execution_count": 4,
   "id": "f894a774-f094-4c19-ad80-6f61313a2224",
   "metadata": {
    "tags": []
   },
   "outputs": [
    {
     "name": "stdout",
     "output_type": "stream",
     "text": [
      "Epoch 1/10 - Train Loss: 359.3199, Val Loss: 22.9712\n",
      "Epoch 2/10 - Train Loss: 16.6751, Val Loss: 11.8937\n",
      "Epoch 3/10 - Train Loss: 10.1880, Val Loss: 8.6374\n",
      "Epoch 4/10 - Train Loss: 7.5438, Val Loss: 9.1084\n",
      "Epoch 5/10 - Train Loss: 6.2225, Val Loss: 6.1317\n",
      "Epoch 6/10 - Train Loss: 5.1231, Val Loss: 6.4448\n",
      "Epoch 7/10 - Train Loss: 4.4654, Val Loss: 5.8972\n",
      "Epoch 8/10 - Train Loss: 3.8011, Val Loss: 4.1037\n",
      "Epoch 9/10 - Train Loss: 3.5175, Val Loss: 4.0546\n",
      "Epoch 10/10 - Train Loss: 2.6500, Val Loss: 9.7540\n"
     ]
    }
   ],
   "source": [
    "# Define model\n",
    "model = SupCEResNet_Fusion(\n",
    "    name='resnet50',\n",
    "    num_classes=1,  # Regression or binary classification\n",
    "    num_features=14,  # Number of biomarkers\n",
    "    in_channels=3  # RGB images\n",
    ").to(DEVICE)\n",
    "\n",
    "# Define the criterion and optimizer\n",
    "criterion = nn.MSELoss()  # Use MSELoss for regression tasks\n",
    "optimizer = optim.Adam(model.parameters(), lr=1e-4)\n",
    "train_loader, val_loader = get_data_loaders()\n",
    "# Train the model\n",
    "train_model(\n",
    "    model=model,\n",
    "    train_loader=train_loader,\n",
    "    val_loader=val_loader,\n",
    "    criterion=criterion,\n",
    "    optimizer=optimizer,\n",
    "    device=DEVICE,\n",
    "    epochs=10  # Specify the number of epochs\n",
    ")\n"
   ]
  },
  {
   "cell_type": "code",
   "execution_count": null,
   "id": "987a2ec9-1f07-4e35-99d9-ce6896e828de",
   "metadata": {
    "tags": []
   },
   "outputs": [],
   "source": [
    "torch.save(model, \"resnet50.pth\")"
   ]
  },
  {
   "cell_type": "code",
   "execution_count": null,
   "id": "886755c0",
   "metadata": {},
   "outputs": [],
   "source": []
  }
 ],
 "metadata": {
  "kernelspec": {
   "display_name": "Python 3 (ipykernel)",
   "language": "python",
   "name": "python3"
  },
  "language_info": {
   "codemirror_mode": {
    "name": "ipython",
    "version": 3
   },
   "file_extension": ".py",
   "mimetype": "text/x-python",
   "name": "python",
   "nbconvert_exporter": "python",
   "pygments_lexer": "ipython3",
   "version": "3.10.12"
  }
 },
 "nbformat": 4,
 "nbformat_minor": 5
}
