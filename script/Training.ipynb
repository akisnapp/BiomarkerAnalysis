{
 "cells": [
  {
   "cell_type": "code",
   "execution_count": 1,
   "id": "f9ae9e79-98a6-4a60-9477-63894df0a0d9",
   "metadata": {
    "tags": []
   },
   "outputs": [],
   "source": [
    "import os\n",
    "import torch\n",
    "import torch.nn as nn\n",
    "from torch.utils.data import DataLoader\n",
    "from torchvision import transforms\n",
    "from sklearn.metrics import accuracy_score\n",
    "from resnet50_mlp_fusion import SupCEResNet_Fusion  \n",
    "from train import train_model\n",
    "from data_preprocessing import get_data_loaders\n",
    "import torch.nn as nn\n",
    "import torch.optim as optim\n",
    "from train import train_model\n",
    "\n",
    "# Device configuration\n",
    "DEVICE = torch.device(\"cuda\" if torch.cuda.is_available() else \"cpu\")"
   ]
  },
  {
   "cell_type": "code",
   "execution_count": 2,
   "id": "f894a774-f094-4c19-ad80-6f61313a2224",
   "metadata": {
    "tags": []
   },
   "outputs": [
    {
     "name": "stderr",
     "output_type": "stream",
     "text": [
      "/home/hice1/cphan36/.local/lib/python3.10/site-packages/torch/optim/lr_scheduler.py:62: UserWarning: The verbose parameter is deprecated. Please use get_last_lr() to access the learning rate.\n",
      "  warnings.warn(\n"
     ]
    },
    {
     "name": "stdout",
     "output_type": "stream",
     "text": [
      "Epoch 1/10 - Train Loss: 375.3257, Val Loss: 27.0321\n",
      "Epoch 2/10 - Train Loss: 20.4152, Val Loss: 12.3833\n",
      "Epoch 3/10 - Train Loss: 11.6086, Val Loss: 8.9805\n",
      "Epoch 4/10 - Train Loss: 8.4334, Val Loss: 6.9387\n",
      "Epoch 5/10 - Train Loss: 6.5218, Val Loss: 6.0672\n",
      "Epoch 6/10 - Train Loss: 5.6253, Val Loss: 4.4143\n",
      "Epoch 7/10 - Train Loss: 4.6936, Val Loss: 5.5784\n",
      "Epoch 8/10 - Train Loss: 3.4810, Val Loss: 3.8110\n",
      "Epoch 9/10 - Train Loss: 3.7603, Val Loss: 2.6761\n",
      "Epoch 10/10 - Train Loss: 3.1320, Val Loss: 4.1246\n"
     ]
    }
   ],
   "source": [
    "# Define model\n",
    "model = SupCEResNet_Fusion(\n",
    "    name='resnet50',\n",
    "    num_classes=1,  # Regression or binary classification\n",
    "    num_features=14,  # Number of biomarkers\n",
    "    in_channels=3  # RGB images\n",
    ").to(DEVICE)\n",
    "\n",
    "# Define the criterion and optimizer\n",
    "criterion = nn.MSELoss()  # Use MSELoss for regression tasks\n",
    "optimizer = optim.Adam(model.parameters(), lr=1e-4)\n",
    "train_loader, val_loader = get_data_loaders()\n",
    "# Train the model\n",
    "train_model(\n",
    "    model=model,\n",
    "    train_loader=train_loader,\n",
    "    val_loader=val_loader,\n",
    "    criterion=criterion,\n",
    "    optimizer=optimizer,\n",
    "    device=DEVICE,\n",
    "    epochs=10  # Specify the number of epochs\n",
    ")\n"
   ]
  },
  {
   "cell_type": "code",
   "execution_count": 3,
   "id": "987a2ec9-1f07-4e35-99d9-ce6896e828de",
   "metadata": {
    "tags": []
   },
   "outputs": [],
   "source": [
    "torch.save(model, \"resnet50.pth\")"
   ]
  }
 ],
 "metadata": {
  "kernelspec": {
   "display_name": "Python 3 (ipykernel)",
   "language": "python",
   "name": "python3"
  },
  "language_info": {
   "codemirror_mode": {
    "name": "ipython",
    "version": 3
   },
   "file_extension": ".py",
   "mimetype": "text/x-python",
   "name": "python",
   "nbconvert_exporter": "python",
   "pygments_lexer": "ipython3",
   "version": "3.10.13"
  }
 },
 "nbformat": 4,
 "nbformat_minor": 5
}
